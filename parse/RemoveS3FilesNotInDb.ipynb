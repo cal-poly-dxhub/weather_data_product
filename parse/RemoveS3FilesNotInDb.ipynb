{
 "cells": [
  {
   "cell_type": "code",
   "execution_count": 1,
   "metadata": {},
   "outputs": [],
   "source": [
    "# Import libraries\n",
    "import pandas as pd\n",
    "import numpy as np\n",
    "import boto3\n",
    "\n",
    "s3files_df = pd.read_csv('s3files.csv')\n",
    "dbfiles_df = pd.read_csv('files.txt')\n",
    "dbfiles_df.shape\n",
    "# assign location to each dataframe that will we use in the merge\n",
    "s3files_df['location'] = 's3'\n",
    "dbfiles_df['location'] = 'db'\n",
    "# append fully qualified path for s3 files\n",
    "s3files_df['FileLocation'] = '915-profiler/temp/' + s3files_df['FileLocation'] "
   ]
  },
  {
   "cell_type": "code",
   "execution_count": 2,
   "metadata": {},
   "outputs": [
    {
     "name": "stdout",
     "output_type": "stream",
     "text": [
      "(131729, 2)\n",
      "(57347, 2)\n"
     ]
    },
    {
     "data": {
      "text/html": [
       "<div>\n",
       "<style scoped>\n",
       "    .dataframe tbody tr th:only-of-type {\n",
       "        vertical-align: middle;\n",
       "    }\n",
       "\n",
       "    .dataframe tbody tr th {\n",
       "        vertical-align: top;\n",
       "    }\n",
       "\n",
       "    .dataframe thead th {\n",
       "        text-align: right;\n",
       "    }\n",
       "</style>\n",
       "<table border=\"1\" class=\"dataframe\">\n",
       "  <thead>\n",
       "    <tr style=\"text-align: right;\">\n",
       "      <th></th>\n",
       "      <th>FileLocation</th>\n",
       "      <th>location</th>\n",
       "    </tr>\n",
       "  </thead>\n",
       "  <tbody>\n",
       "    <tr>\n",
       "      <th>0</th>\n",
       "      <td>915-profiler/temp/915ProfilerTempCNS.0505.2020...</td>\n",
       "      <td>s3</td>\n",
       "    </tr>\n",
       "    <tr>\n",
       "      <th>1</th>\n",
       "      <td>915-profiler/temp/915ProfilerTempCNS.0505.2020...</td>\n",
       "      <td>s3</td>\n",
       "    </tr>\n",
       "    <tr>\n",
       "      <th>2</th>\n",
       "      <td>915-profiler/temp/915ProfilerTempCNS.0505.2020...</td>\n",
       "      <td>s3</td>\n",
       "    </tr>\n",
       "    <tr>\n",
       "      <th>3</th>\n",
       "      <td>915-profiler/temp/915ProfilerTempCNS.0505.2020...</td>\n",
       "      <td>s3</td>\n",
       "    </tr>\n",
       "    <tr>\n",
       "      <th>4</th>\n",
       "      <td>915-profiler/temp/915ProfilerTempCNS.0505.2020...</td>\n",
       "      <td>s3</td>\n",
       "    </tr>\n",
       "  </tbody>\n",
       "</table>\n",
       "</div>"
      ],
      "text/plain": [
       "                                        FileLocation location\n",
       "0  915-profiler/temp/915ProfilerTempCNS.0505.2020...       s3\n",
       "1  915-profiler/temp/915ProfilerTempCNS.0505.2020...       s3\n",
       "2  915-profiler/temp/915ProfilerTempCNS.0505.2020...       s3\n",
       "3  915-profiler/temp/915ProfilerTempCNS.0505.2020...       s3\n",
       "4  915-profiler/temp/915ProfilerTempCNS.0505.2020...       s3"
      ]
     },
     "execution_count": 2,
     "metadata": {},
     "output_type": "execute_result"
    }
   ],
   "source": [
    "print (s3files_df.shape)\n",
    "print (dbfiles_df.shape)\n",
    "s3files_df.head()\n",
    "#dbfiles_df.head()"
   ]
  },
  {
   "cell_type": "code",
   "execution_count": 3,
   "metadata": {},
   "outputs": [
    {
     "name": "stdout",
     "output_type": "stream",
     "text": [
      "files_that_exist_on_s3_not_in_db (74683, 3)\n"
     ]
    },
    {
     "data": {
      "text/html": [
       "<div>\n",
       "<style scoped>\n",
       "    .dataframe tbody tr th:only-of-type {\n",
       "        vertical-align: middle;\n",
       "    }\n",
       "\n",
       "    .dataframe tbody tr th {\n",
       "        vertical-align: top;\n",
       "    }\n",
       "\n",
       "    .dataframe thead th {\n",
       "        text-align: right;\n",
       "    }\n",
       "</style>\n",
       "<table border=\"1\" class=\"dataframe\">\n",
       "  <thead>\n",
       "    <tr style=\"text-align: right;\">\n",
       "      <th></th>\n",
       "      <th>FileLocation</th>\n",
       "      <th>location_x</th>\n",
       "      <th>location_y</th>\n",
       "    </tr>\n",
       "  </thead>\n",
       "  <tbody>\n",
       "    <tr>\n",
       "      <th>2652</th>\n",
       "      <td>915-profiler/temp/915ProfilerTempCNS.0506.2020...</td>\n",
       "      <td>s3</td>\n",
       "      <td>NaN</td>\n",
       "    </tr>\n",
       "    <tr>\n",
       "      <th>2654</th>\n",
       "      <td>915-profiler/temp/915ProfilerTempCNS.0506.2020...</td>\n",
       "      <td>s3</td>\n",
       "      <td>NaN</td>\n",
       "    </tr>\n",
       "    <tr>\n",
       "      <th>2655</th>\n",
       "      <td>915-profiler/temp/915ProfilerTempCNS.0506.2020...</td>\n",
       "      <td>s3</td>\n",
       "      <td>NaN</td>\n",
       "    </tr>\n",
       "    <tr>\n",
       "      <th>2656</th>\n",
       "      <td>915-profiler/temp/915ProfilerTempCNS.0506.2020...</td>\n",
       "      <td>s3</td>\n",
       "      <td>NaN</td>\n",
       "    </tr>\n",
       "    <tr>\n",
       "      <th>29508</th>\n",
       "      <td>915-profiler/temp/915ProfilerTempCNS.0508.2020...</td>\n",
       "      <td>s3</td>\n",
       "      <td>NaN</td>\n",
       "    </tr>\n",
       "  </tbody>\n",
       "</table>\n",
       "</div>"
      ],
      "text/plain": [
       "                                            FileLocation location_x location_y\n",
       "2652   915-profiler/temp/915ProfilerTempCNS.0506.2020...         s3        NaN\n",
       "2654   915-profiler/temp/915ProfilerTempCNS.0506.2020...         s3        NaN\n",
       "2655   915-profiler/temp/915ProfilerTempCNS.0506.2020...         s3        NaN\n",
       "2656   915-profiler/temp/915ProfilerTempCNS.0506.2020...         s3        NaN\n",
       "29508  915-profiler/temp/915ProfilerTempCNS.0508.2020...         s3        NaN"
      ]
     },
     "execution_count": 3,
     "metadata": {},
     "output_type": "execute_result"
    }
   ],
   "source": [
    "# We want a list of files that are on S3 but NOT in the DB, those files need to be deleted\n",
    "# Let's do a left merge so that any files cleans will show up as NaN\n",
    "files_merged = s3files_df.merge(dbfiles_df, on='FileLocation', how='left')\n",
    "\n",
    "\n",
    "files_not_in_db_filter = files_merged['location_y'].isnull()\n",
    "files_that_exist_on_s3_not_in_db = files_merged[files_not_in_db_filter]\n",
    "print ('files_that_exist_on_s3_not_in_db', files_that_exist_on_s3_not_in_db.shape)\n",
    "files_that_exist_on_s3_not_in_db.head()"
   ]
  },
  {
   "cell_type": "code",
   "execution_count": 16,
   "metadata": {},
   "outputs": [
    {
     "data": {
      "text/plain": [
       "'915-profiler/temp/915ProfilerTempCNS.0506.20200313043026.csv'"
      ]
     },
     "execution_count": 16,
     "metadata": {},
     "output_type": "execute_result"
    }
   ],
   "source": [
    "files_that_exist_on_s3_not_in_db.iloc[2]['FileLocation']"
   ]
  },
  {
   "cell_type": "code",
   "execution_count": 23,
   "metadata": {},
   "outputs": [],
   "source": [
    "# Use the SDK to remove all files from S3 not in the DB\n",
    "session = boto3.Session(\n",
    "    region_name='us-gov-west-1',\n",
    "    profile_name='vafb'\n",
    ")\n",
    "\n",
    "client = session.client('s3')\n",
    "for objects in files_that_exist_on_s3_not_in_db.iterrows():\n",
    "    key = objects[1]['FileLocation']\n",
    "    response = client.delete_object(Bucket='dxhub-vafb-xui-weather-data-raw',Key=key)"
   ]
  },
  {
   "cell_type": "code",
   "execution_count": null,
   "metadata": {},
   "outputs": [],
   "source": []
  }
 ],
 "metadata": {
  "kernelspec": {
   "display_name": "Python 3",
   "language": "python",
   "name": "python3"
  },
  "language_info": {
   "codemirror_mode": {
    "name": "ipython",
    "version": 3
   },
   "file_extension": ".py",
   "mimetype": "text/x-python",
   "name": "python",
   "nbconvert_exporter": "python",
   "pygments_lexer": "ipython3",
   "version": "3.7.10"
  }
 },
 "nbformat": 4,
 "nbformat_minor": 4
}
